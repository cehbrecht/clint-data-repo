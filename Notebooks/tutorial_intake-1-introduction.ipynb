{
 "cells": [
  {
   "cell_type": "markdown",
   "metadata": {
    "tags": []
   },
   "source": [
    "# Intake  - find, browse and access `intake-esm` collections"
   ]
  },
  {
   "cell_type": "markdown",
   "metadata": {},
   "source": [
    "<a class=\"anchor\" id=\"motivation\"></a>\n",
    "\n",
    "For an introduction to intake please see the [intake documentation](https://intake.readthedocs.io/en/latest/).\n",
    "We follow here the guidance presented by `intake-esm` on its [repository](https://intake-esm.readthedocs.io/en/latest/user-guide/cmip6-tutorial.html). \n",
    "\n",
    "## Motivation of intake and the intake-esm plugin\n",
    "\n",
    "> Simulations of the Earth’s climate and weather generate huge amounts of data. These data are often persisted on different storages in a variety of formats (netCDF, zarr, etc...). Finding, investigating, loading these data assets into compute-ready data containers costs time and effort. The data user needs to know what data sets are available, the attributes describing each data set, before loading a specific data set and analyzing it.\n",
    "\n",
    "> `Intake` provides a lightweight package for finding, investigating, loading and disseminating data. Different types of catalogs are supported via different drivers and plugins. \n",
    "\n",
    "> The `Intake-esm` plugin provides functionality for **searching, discovering, data access and data loading** climate model data. \n",
    "\n",
    "> The `Intake-esm` data cataloging utility is built on top of **intake, pandas, and xarray**."
   ]
  },
  {
   "cell_type": "markdown",
   "metadata": {},
   "source": [
    "For intake users, many data preparation tasks **are no longer necessary**. They do not need to know:\n",
    "\n",
    "- 🌍 where data is saved\n",
    "- 🪧 how data is saved\n",
    "- 📤  how data should be loaded\n",
    "\n",
    "but still can search, discover, access and load data of a project."
   ]
  },
  {
   "cell_type": "markdown",
   "metadata": {},
   "source": [
    "<a class=\"anchor\" id=\"features\"></a>\n",
    "\n",
    "## Features of intake and intake-esm\n",
    "\n",
    "Intake is a generic **cataloging system** for listing data sources. As a plugin, `intake-esm` is built on top of `intake`, `pandas`, and `xarray` and configures `intake` such that it is able to also **load and process** ESM data.\n",
    "\n",
    "- display catalogs as clearly structured tables 📄 inside jupyter notebooks for easy investigation\n",
    "- browse 🔍 through the catalog and select your data without\n",
    "    - being next to the data (e.g. logged in on dkrz's luv)\n",
    "    - knowing the project's data reference syntax i.e. the storage tree hierarchy and path and file name templates\n",
    "- open climate data in an analysis ready dictionary of `xarray` datasets 🎁"
   ]
  },
  {
   "cell_type": "markdown",
   "metadata": {},
   "source": [
    "All required information for searching, accessing and loading the catalog's data is configured within the catalogs:\n",
    "\n",
    "- 🌍 where data is saved\n",
    "    * users can browse data without knowing the data storage platform including e.g. the root path of the project and the directory syntax\n",
    "    * data of different platforms (cloud or disk) can be combined in one catalog\n",
    "    * on mid term, intake catalogs can be **a single point of access**\n",
    "- 🪧 how data is saved\n",
    "    * users can work with a *xarray* dataset representation of the data no matter whether it is saved in **grb, netcdf or zarr** format.\n",
    "    * catalogs can contain more information an therefore more search facets than obvious from names and pathes of the data.\n",
    "- 📤  how data should be loaded\n",
    "    * users work with an **aggregated** *xarray* dataset representation which merges files/assets perfectly fitted to the project's data model design.\n",
    "    * with *xarray* and the underlying *dask* library, data which are **larger than the RAM** can be loaded"
   ]
  },
  {
   "cell_type": "markdown",
   "metadata": {},
   "source": [
    "In this tutorial, we load a CMIP6 catalog which contains all data from the pool on DKRZ's mistral disk storage.\n",
    "CMIP6 is the 6th phase of the Coupled Model Intercomparison Project and builds the data base used in the IPCC AR6.\n",
    "The CMIP6 catalog contains all data that is published or replicated at the ESGF node at DKRZ."
   ]
  },
  {
   "cell_type": "markdown",
   "metadata": {
    "slideshow": {
     "slide_type": "slide"
    },
    "tags": []
   },
   "source": [
    "<a class=\"anchor\" id=\"terminology\"></a>\n",
    "\n",
    "## Terminology: **Catalog**, **Catalog file** and **Collection**\n",
    "\n",
    "We align our wording with `intake`'s [*glossary*](https://intake.readthedocs.io/en/latest/glossary.html) which is still evolving. The names overlap with other definitions, making it difficult to keep track. Here we try to give an overview of the hierarchy of catalog terms:\n",
    "\n",
    "- a **top level catalog file** 📋 is the **main** catalog of an institution which will be opened first. It contains other project [*catalogs*](#catalog)  📖 📖 📖. Such catalogs can be assigned an [*intake driver*](#intakedriver) which is used to open and load the catalog within the top level catalog file. Technically, a catalog file 📋  <a class=\"anchor\" id=\"catalogfile\"></a>\n",
    "    - is a `.yaml` file\n",
    "    - can be opened with `open_catalog`, e.g.:\n",
    "```python\n",
    "    intake.open_catalog([\"https://dkrz.de/s/intake\"])\n",
    "```\n",
    "- **intake driver**s also named **plugin**s are specified for [*catalogs*](#catalog) becaues they load specific data sets. There are [many driver](https://intake.readthedocs.io/en/latest/plugin-directory.html) libraries for intake, we will concentrate on the intake-esm driver for climate model data <a class=\"anchor\" id=\"intakedriver\"></a>."
   ]
  },
  {
   "cell_type": "markdown",
   "metadata": {
    "slideshow": {
     "slide_type": "slide"
    }
   },
   "source": [
    "- a **catalog** 📖 (or collection) is defined by two parts: <a class=\"anchor\" id=\"catalog\"></a>\n",
    "    - a **description** of a group of data sets. It describes how to *load* **assets** of the data set(s) with the specified [driver](#intakedriver). This group forms an entity. E.g., all CMIP6 data sets can be collected in a catalog. <a class=\"anchor\" id=\"description\"></a>\n",
    "        - an **asset** is most often a file. <a class=\"anchor\" id=\"asset\"></a>\n",
    "    - a **collection** of all [assets](#asset) of the data set(s).   <a class=\"anchor\" id=\"collection\"></a>\n",
    "        - the collection can be included in the catalog or separately saved in a **data base** 🗂. In the latter case, the catalog references the data base, e.g.:\n",
    "```json\n",
    "  \"catalog_file\": \"/mnt/lustre02/work/ik1017/Catalogs/dkrz_cmip6_disk.csv.gz\"\n",
    "```\n",
    "\n",
    "```{note}\n",
    "The term *collection* is often used synonymically for [catalog](#catalog).\n",
    "```"
   ]
  },
  {
   "cell_type": "markdown",
   "metadata": {
    "slideshow": {
     "slide_type": "slide"
    }
   },
   "source": [
    "- a *intake-esm* **catalog**  📖 consists of a `.json` file (the **description**) and the underlying data base. The data base is either provided within the `.json` file or as a `.csv.gz` formatted list. \n",
    "\n",
    "The intake-esm catalog can be opened with intake-esm's function `intake.open_esm_datastore()` where the `.json` part is the argument, e.g:\n",
    "\n",
    "```python\n",
    "intake.open_esm_datastore(\"https://gitlab.dkrz.de/data-infrastructure-services/intake-esm/-/raw/master/esm-collections/cloud-access/dkrz_cmip6_disk.json\")\n",
    "```\n",
    "    "
   ]
  },
  {
   "cell_type": "code",
   "execution_count": null,
   "metadata": {},
   "outputs": [],
   "source": [
    "#note that intake_esm is imported with `import intake` as a plugin\n",
    "import intake"
   ]
  },
  {
   "cell_type": "markdown",
   "metadata": {},
   "source": [
    "<a class=\"anchor\" id=\"browse\"></a>\n",
    "\n",
    "## Open and browse through catalogs\n",
    "\n",
    "There are essentially two options to work with specific catalogs:\n",
    "1) use intake to **open** top level catalog-files in `yaml` format. These contain information about additonal sources: other catalogs/collections which will be loaded with specific *plugins*/*drivers*. The command is `open_catalog`.\n",
    "2) use intake-esm to directly open esm catalogs in `json` format. \n"
   ]
  },
  {
   "cell_type": "code",
   "execution_count": null,
   "metadata": {},
   "outputs": [],
   "source": [
    "# on DKRZ resources the catalog is accessible in the data pool directory\n",
    "dkrz_catalog=intake.open_catalog([\"/pool/data/Catalogs/dkrz_catalog.yaml\"])\n",
    "#\n",
    "# for opening the catalog from remote it is also availabe on gitlab: \n",
    "# dkrz_catalog=intake.open_catalog([\"https://gitlab.dkrz.de/data-infrastructure-services/intake-esm/-/raw/master/esm-collections/cloud-access/dkrz_catalog.yaml\"])"
   ]
  },
  {
   "cell_type": "markdown",
   "metadata": {},
   "source": [
    "We can look into the catalog with `print` and `list`"
   ]
  },
  {
   "cell_type": "markdown",
   "metadata": {},
   "source": [
    "Over the time, many collections have been created. `dkrz_catalog` is a **main** catalog prepared to keep an overview of all other collections. `list` shows all sub **project catalogs** which are available at DKRZ."
   ]
  },
  {
   "cell_type": "code",
   "execution_count": null,
   "metadata": {},
   "outputs": [],
   "source": [
    "list(dkrz_catalog)"
   ]
  },
  {
   "cell_type": "markdown",
   "metadata": {},
   "source": [
    "All these catalogs are **intake-esm** catalogs. You can find this information via the `_entries` attribute. The line `plugin: ['esm_datastore']\n",
    "` refers to **intake-esm**'s function `open_esm_datastore()`."
   ]
  },
  {
   "cell_type": "code",
   "execution_count": null,
   "metadata": {},
   "outputs": [],
   "source": [
    "print(dkrz_catalog._entries)"
   ]
  },
  {
   "cell_type": "markdown",
   "metadata": {},
   "source": [
    "The DKRZ ESM-Collections follow a name template:\n",
    "\n",
    "`dkrz_${project}_${store}[_${auxiliary_catalog}]`\n",
    "\n",
    "where\n",
    "\n",
    "- **project** can be one of the *model intercomparison project*, e.g. `cmip6`, `cmip5`, `cordex`, `era5` or `mpi-ge`.\n",
    "- **store** is the data store and can be one of:\n",
    "    - `disk`: DKRZ holds a lot of data on a consortial disk space on the file system of the High Performance Computer (HPC) where it is accessible for every HPC user. Working next to the data on the file system will be the fastest way possible.\n",
    "    - `cloud`: A small subset is transferred into DKRZ's cloud in order to test the performance. swift is DKRZ's cloud storage.\n",
    "    - `archive`: A lot of data exists in the band archive of DKRZ. Before it can be accessed, it has to be retrieved. Therefore, catalogs for `hsm` are limited in functionality but still convenient for data browsing.\n",
    "- **auxiliary_catalog** can be *grid*"
   ]
  },
  {
   "cell_type": "markdown",
   "metadata": {},
   "source": [
    "### The `intake-esm` catalogs\n",
    "\n",
    "We now look into a catalog which is opened by the plugin `intake-esm`. \n",
    "As mentioned earlier there are two options to open intake-esm catalogs: \n",
    "1) use intake to **open** top level catalog-files in `yaml` format. These contain information about additonal sources: other catalogs/collections which will be loaded with specific *plugins*/*drivers*. The command is `open_catalog`.\n",
    "2) use intake-esm to directly open esm catalogs in `json` format. \n",
    "\n",
    "> An ESM (Earth System Model) collection file is a `JSON` file that conforms to the ESM Collection Specification. When provided a link/path to an esm collection file, intake-esm establishes a link to a database (`CSV` file) that contains data assets locations and associated metadata (i.e., which experiment, model, the come from).\n",
    "\n",
    "Since the data base of the CMIP6 ESM Collection is about 100MB in compressed format, it takes up to a minute to load the catalog."
   ]
  },
  {
   "cell_type": "markdown",
   "metadata": {},
   "source": [
    "```{note}\n",
    "The project catalogs contain only valid and current project data. They are constantly updated.\n",
    "\n",
    "If your work is based on a catalog and a subset of the data from it, be sure to save that subset so you can later compare your database to the most current catalog.\n",
    "```"
   ]
  },
  {
   "cell_type": "markdown",
   "metadata": {},
   "source": [
    "#### use the top level catalog to access the intake-esm catalog"
   ]
  },
  {
   "cell_type": "code",
   "execution_count": null,
   "metadata": {},
   "outputs": [],
   "source": [
    "dkrz_catalog=intake.open_catalog([\"/pool/data/Catalogs/dkrz_catalog.yaml\"])\n",
    "#\n",
    "# for opening the catalog from remote it is also availabe on gitlab: \n",
    "# dkrz_catalog=intake.open_catalog([\"https://gitlab.dkrz.de/data-infrastructure-services/intake-esm/-/raw/master/esm-collections/cloud-access/dkrz_catalog.yaml\"])"
   ]
  },
  {
   "cell_type": "code",
   "execution_count": null,
   "metadata": {},
   "outputs": [],
   "source": [
    "esm_col=dkrz_catalog.dkrz_cmip6_disk\n",
    "print(esm_col)"
   ]
  },
  {
   "cell_type": "markdown",
   "metadata": {},
   "source": [
    "`intake-esm` gives us an overview over the content of the ESM collection. The ESM collection is a data base described by specific attributes which are technically columns. Each project data standard is the basis for the columns and used to parse information given by the path and file names.\n",
    "\n",
    "The pure display of `esm_col` shows us the number of unique values in each column. Since each `uri` refers to one file, we can conclude that the DKRZ-CMIP6 ESM Collection contains **6.1 Mio Files** in 2022."
   ]
  },
  {
   "cell_type": "markdown",
   "metadata": {},
   "source": [
    "The data base is loaded into an underlying `panda`s dataframe which we can access with `esm_col.df`. `esm_col.df.head()` displays the first rows of the table:"
   ]
  },
  {
   "cell_type": "code",
   "execution_count": null,
   "metadata": {},
   "outputs": [],
   "source": [
    "esm_col.df.head() "
   ]
  },
  {
   "cell_type": "markdown",
   "metadata": {},
   "source": [
    "### Browse through the data of the ESM collection"
   ]
  },
  {
   "cell_type": "markdown",
   "metadata": {},
   "source": [
    "You will browse the collection technically by setting values the **column names** of the underlying table. Per default, the catalog was loaded with all cmip6 attributes/columns that define the CMIP6 data standard:"
   ]
  },
  {
   "cell_type": "code",
   "execution_count": null,
   "metadata": {},
   "outputs": [],
   "source": [
    "list(esm_col.df.columns)"
   ]
  },
  {
   "cell_type": "markdown",
   "metadata": {},
   "source": [
    "These are configured in the top level catalog so you <mark> do not need to open the catalog to see the columns </mark>"
   ]
  },
  {
   "cell_type": "code",
   "execution_count": null,
   "metadata": {},
   "outputs": [],
   "source": [
    "query = dict(\n",
    "    variable_id=\"tas\",\n",
    "    table_id=\"Amon\",\n",
    "    experiment_id=[\"piControl\", \"historical\", \"ssp370\"])\n",
    "# piControl = pre-industrial control, simulation to represent a stable climate from 1850 for >100 years.\n",
    "# historical = historical Simulation, 1850-2014\n",
    "# ssp370 = Shared Socioeconomic Pathways (SSPs) are scenarios of projected socioeconomic global changes. Simulation covers 2015-2100\n",
    "cat = esm_col.search(**query)"
   ]
  },
  {
   "cell_type": "code",
   "execution_count": null,
   "metadata": {},
   "outputs": [],
   "source": [
    "cat.df.head()"
   ]
  },
  {
   "cell_type": "markdown",
   "metadata": {},
   "source": [
    "We could also use *Wildcards*. For example, in order to find out which ESMs of the institution *MPI-M* have produced data for our subset:"
   ]
  },
  {
   "cell_type": "code",
   "execution_count": null,
   "metadata": {},
   "outputs": [],
   "source": [
    "result = cat.search(source_id=\"MPI-ES*\")\n",
    "result"
   ]
  },
  {
   "cell_type": "markdown",
   "metadata": {},
   "source": [
    "We can find out which models have submitted data for at least one of them by:"
   ]
  },
  {
   "cell_type": "code",
   "execution_count": null,
   "metadata": {},
   "outputs": [],
   "source": [
    "list(result.df[\"source_id\"].unique())"
   ]
  },
  {
   "cell_type": "markdown",
   "metadata": {},
   "source": [
    "If we instead look for the models that have submitted data for ALL experiments, we use the `require_all_on` keyword argument:"
   ]
  },
  {
   "cell_type": "code",
   "execution_count": null,
   "metadata": {},
   "outputs": [],
   "source": [
    "cat = esm_col.search(require_all_on=[\"source_id\"], **query)\n",
    "list(cat.df[\"source_id\"].unique())"
   ]
  },
  {
   "cell_type": "markdown",
   "metadata": {},
   "source": [
    "Note that only the combination of a `variable_id` and a `table_id` is unique in CMIP6. If you search for `tas` in all tables, you will find many entries more:"
   ]
  },
  {
   "cell_type": "code",
   "execution_count": null,
   "metadata": {},
   "outputs": [],
   "source": [
    "query = dict(\n",
    "    variable_id=\"tas\",\n",
    "#    table_id=\"Amon\",\n",
    "    experiment_id=[\"piControl\", \"historical\", \"ssp370\"])\n",
    "cat = esm_col.search(**query)\n",
    "list(cat.df[\"table_id\"].unique())"
   ]
  },
  {
   "cell_type": "markdown",
   "metadata": {},
   "source": [
    "Be careful when you search for specific time slices. Each frequency is connected with a individual name template for the filename. If the data is yearly, you have YYYY-YYYY whereas you have YYYYMM-YYYYMM for monthly data. "
   ]
  },
  {
   "cell_type": "markdown",
   "metadata": {},
   "source": [
    "<a class=\"anchor\" id=\"dataaccess\"></a>\n",
    "\n",
    "## Access and load data of the ESM collection\n",
    "\n",
    "With the power of `xarray`, `intake` can load your subset into a `dict`ionary of datasets. We therefore focus on the data of `MPI-ESM1-2-LR`:"
   ]
  },
  {
   "cell_type": "code",
   "execution_count": null,
   "metadata": {},
   "outputs": [],
   "source": [
    "#case insensitive?\n",
    "query = dict(\n",
    "    variable_id=\"tas\",\n",
    "    table_id=\"Amon\",\n",
    "    source_id=\"MPI-ESM1-2-LR\",\n",
    "    experiment_id=\"historical\")\n",
    "cat = esm_col.search(**query)\n",
    "cat"
   ]
  },
  {
   "cell_type": "markdown",
   "metadata": {},
   "source": [
    "**Intake-ESM** natively supports the following data formats or access formats (since opendap is not really a file format):\n",
    "\n",
    "- netcdf\n",
    "- opendap\n",
    "- zarr\n",
    "\n",
    "You can also open **grb** data but right now only by specifying xarray's attribute *engine* in the *open* function which is defined in the following. I.e., it does not make a difference if you specify **grb** as format.\n",
    "\n",
    "You can find an example in the *era5* notebook."
   ]
  },
  {
   "cell_type": "markdown",
   "metadata": {},
   "source": [
    "The function to open data is `to_dataset_dict`. \n",
    "\n",
    "We recommend to set a keyword argument `cdf_kwargs` for the chunk size of the variable's data array. Otherwise, `xarray` may choose too large chunks. Most often, your data contains a time dimension so that you could set `cdf_kwargs={\"chunks\":{\"time\":1}}`. \n",
    "\n",
    "If your collection contains **zarr** formatted data, you need to add another keyword argument `zarr_kwargs`. <mark> The trick is: You can just specify both. Intake knows from the `format` column which *kwargs* should be taken."
   ]
  },
  {
   "cell_type": "code",
   "execution_count": null,
   "metadata": {
    "tags": []
   },
   "outputs": [],
   "source": [
    "xr_dict = cat.to_dataset_dict(xarray_open_kwargs=dict(chunks=dict(time=1)),\n",
    "                                              #decode_times=True,\n",
    "                                              #use_cftime=True)\n",
    "                             )\n",
    "xr_dict"
   ]
  },
  {
   "cell_type": "markdown",
   "metadata": {},
   "source": [
    "`Intake` was able to aggregate many files into only one dataset:\n",
    "- The `time_range` column was used to **concat** data along the `time` dimension\n",
    "- The `member_id` column was used to generate a new dimension\n",
    "\n",
    "The underlying `dask` package will only load the data into memory if needed. Note that attributes which disagree from file to file, e.g. *tracking_id*, are excluded from the dataset."
   ]
  },
  {
   "cell_type": "markdown",
   "metadata": {},
   "source": [
    "If we are only interested in the **first** dataset of the dictionary, we can *pop it out*:"
   ]
  },
  {
   "cell_type": "code",
   "execution_count": null,
   "metadata": {
    "tags": []
   },
   "outputs": [],
   "source": [
    "xr_dset = xr_dict.popitem()[1]\n",
    "xr_dset"
   ]
  },
  {
   "cell_type": "code",
   "execution_count": null,
   "metadata": {},
   "outputs": [],
   "source": [
    "import hvplot.xarray\n",
    "xr_dset[\"tas\"].hvplot.quadmesh(width=600)"
   ]
  }
 ],
 "metadata": {
  "kernelspec": {
   "display_name": "Python 3 (based on the module python3/2023.01)",
   "language": "python",
   "name": "python3_2023_01"
  },
  "language_info": {
   "codemirror_mode": {
    "name": "ipython",
    "version": 3
   },
   "file_extension": ".py",
   "mimetype": "text/x-python",
   "name": "python",
   "nbconvert_exporter": "python",
   "pygments_lexer": "ipython3",
   "version": "3.10.10"
  },
  "metadata": {
   "execution": {
    "timeout": 60
   }
  }
 },
 "nbformat": 4,
 "nbformat_minor": 4
}
