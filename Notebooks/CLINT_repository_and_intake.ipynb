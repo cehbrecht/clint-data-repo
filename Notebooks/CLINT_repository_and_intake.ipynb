{
 "cells": [
  {
   "cell_type": "markdown",
   "metadata": {},
   "source": [
    "# The CLINT data repository and Intake data catalogs"
   ]
  },
  {
   "cell_type": "markdown",
   "metadata": {},
   "source": [
    "## Organisation of the CLINT storage area containing the data repository\n",
    "\n",
    "- The central CLINT data repository is hosted at **/work/bk1318/Data_Repository** as part of the **/work/bk1318** CLINT storage allocation\n",
    "- The overall structure of the CLINT work area is:\n",
    "     - *Data_Repository*: the central CLINT data repository, hosting FAIR CLINT data\n",
    "     - kxxxx: private working areas of CLINT members"
   ]
  },
  {
   "cell_type": "markdown",
   "metadata": {},
   "source": [
    "## Central data repository structure\n",
    "- The overall structure will be agreed and updated regularly (PMB meetings and General Assembly meetings)\n",
    "- The initial structure is:\n",
    "    - **Catalogs**: catalogs helping to locate and access data (including external sources)\n",
    "    - **history.txt**: high level book keeping info on major updates/changes of the data repository content and structure\n",
    "    - **notebooks**: notebooks illustrating repository structure and use aspects\n",
    "    - **wp1** .. **wp8**: work package areas\n",
    "    - **climate_service**: data associated to (pre-operational) climate service prototypes"
   ]
  },
  {
   "cell_type": "markdown",
   "metadata": {},
   "source": [
    "## CLINT repository associated directly accessible data pools \n",
    "- DKRZ hosts large climate data collections (CMIP3, CMIP5, CMIP6, CORDEX, ERA5, etc.) as part of their **/pool/data** storage pool\n",
    "- all this data can be searched and directly accessed with the help of intake data catalogs\n",
    "- A detailed overview of the use of Intake at DKRZ is available:\n",
    "    - [Intake tutorials](https://tutorials.dkrz.de/tutorial_intake-1-introduction.html)\n",
    "    - [Uce cases](https://tutorials.dkrz.de/use-cases.html)"
   ]
  },
  {
   "cell_type": "markdown",
   "metadata": {},
   "source": [
    "### Intake Catalog examples\n",
    "- use catalogs of DKRZ data pool \n",
    "- use ad hoc catalogs for CLINT"
   ]
  },
  {
   "cell_type": "code",
   "execution_count": null,
   "metadata": {},
   "outputs": [],
   "source": [
    "import intake\n",
    "import xarray as xr\n",
    "#import xarray as xr\n",
    "intake.gui"
   ]
  },
  {
   "cell_type": "code",
   "execution_count": null,
   "metadata": {},
   "outputs": [],
   "source": [
    "# the master catalog references all available catalogs\n",
    "# it can be added to to gui and loaded \n",
    "intake.gui.add('/pool/data/Catalogs/dkrz_catalog.yaml')\n",
    "master_catalog = intake.open_catalog('/pool/data/Catalogs/dkrz_catalog.yaml')\n",
    "#parent_col"
   ]
  },
  {
   "cell_type": "markdown",
   "metadata": {},
   "source": [
    "The catalogs are acccessible at /pool/data/Catalogs and can also be directly loaded via intake_esm (see [intake tutorials])(https://tutorials.dkrz.de/intake.html)"
   ]
  },
  {
   "cell_type": "code",
   "execution_count": null,
   "metadata": {},
   "outputs": [],
   "source": [
    "!ls /pool/data/Catalogs"
   ]
  },
  {
   "cell_type": "markdown",
   "metadata": {},
   "source": [
    "## Example 1: Use CMIP6 intake catalog"
   ]
  },
  {
   "cell_type": "code",
   "execution_count": null,
   "metadata": {},
   "outputs": [],
   "source": [
    "cmip6_catalog = master_catalog[\"dkrz_cmip6_disk\"]"
   ]
  },
  {
   "cell_type": "code",
   "execution_count": null,
   "metadata": {},
   "outputs": [],
   "source": [
    "cmip6_catalog.df.head()"
   ]
  },
  {
   "cell_type": "code",
   "execution_count": null,
   "metadata": {},
   "outputs": [],
   "source": [
    "tas = cmip6_catalog.search(experiment_id=\"historical\", source_id=\"MPI-ESM1-2-HR\", variable_id=\"tas\", table_id=\"Amon\", member_id=\"r1i1p1f1\")\n",
    "tas"
   ]
  },
  {
   "cell_type": "code",
   "execution_count": null,
   "metadata": {},
   "outputs": [],
   "source": [
    "my_tas = tas.to_dataset_dict()\n",
    "my_tas['CMIP.MPI-ESM1-2-HR.historical.Amon.gn']"
   ]
  },
  {
   "cell_type": "markdown",
   "metadata": {},
   "source": [
    "## Example 2: Use ERA5 intake catalog"
   ]
  },
  {
   "cell_type": "code",
   "execution_count": null,
   "metadata": {},
   "outputs": [],
   "source": [
    "era5_catalog = master_catalog['dkrz_era5_disk']\n",
    "\n",
    "query = {'level_type':'surface',\n",
    "         'frequency':'hourly',\n",
    "         'code':167,\n",
    "        }\n"
   ]
  },
  {
   "cell_type": "code",
   "execution_count": null,
   "metadata": {},
   "outputs": [],
   "source": [
    "my_catalog =  era5_catalog.search(**query)\n",
    "my_catalog.df.head()"
   ]
  },
  {
   "cell_type": "code",
   "execution_count": null,
   "metadata": {},
   "outputs": [],
   "source": [
    "path1 = my_catalog.df['path'].iloc[1]\n",
    "path1"
   ]
  },
  {
   "cell_type": "code",
   "execution_count": null,
   "metadata": {},
   "outputs": [],
   "source": [
    "wds = xr.load_dataset(path1,engine='cfgrib',backend_kwargs= {'indexpath':''})\n",
    "wds"
   ]
  },
  {
   "cell_type": "markdown",
   "metadata": {},
   "source": [
    "## Intake example for structuring CLINT data repository data collections \n",
    "- if a simple naming convention is used e.g. a_b_c_d.nc to structure files this can be directly exploited to make data searchable and accessible via intake:"
   ]
  },
  {
   "cell_type": "code",
   "execution_count": null,
   "metadata": {},
   "outputs": [],
   "source": [
    "intake.gui.add('/work/bk1318/Data_Repository/Catalogs/test.yml')\n"
   ]
  },
  {
   "cell_type": "code",
   "execution_count": null,
   "metadata": {},
   "outputs": [],
   "source": [
    "cat = intake.open_catalog('/work/bk1318/Data_Repository/Catalogs/test.yml')"
   ]
  },
  {
   "cell_type": "code",
   "execution_count": null,
   "metadata": {},
   "outputs": [],
   "source": [
    "cat.wp8.get_entry_kwarg_sets()"
   ]
  },
  {
   "cell_type": "code",
   "execution_count": null,
   "metadata": {},
   "outputs": [],
   "source": [
    "cat.wp8.get_entry(foo='a', bar='b')"
   ]
  }
 ],
 "metadata": {
  "kernelspec": {
   "display_name": "Python 3 (ipykernel)",
   "language": "python",
   "name": "python3"
  },
  "language_info": {
   "codemirror_mode": {
    "name": "ipython",
    "version": 3
   },
   "file_extension": ".py",
   "mimetype": "text/x-python",
   "name": "python",
   "nbconvert_exporter": "python",
   "pygments_lexer": "ipython3",
   "version": "3.12.0"
  }
 },
 "nbformat": 4,
 "nbformat_minor": 4
}
