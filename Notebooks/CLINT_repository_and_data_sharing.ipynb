{
 "cells": [
  {
   "cell_type": "markdown",
   "id": "94dcb69c-af0c-4881-b174-4f54fff768d3",
   "metadata": {},
   "source": [
    "# The CLINT data repository and data sharing"
   ]
  },
  {
   "cell_type": "markdown",
   "id": "b42584ff-61ee-41fa-87cf-34d75cd1133c",
   "metadata": {},
   "source": [
    "## Data ingest and data export \n",
    "- Data can be tranfered in and out of the data repository via conventional data transfer tools\n",
    "- Example transfer tools (see [Data Transfer help pages](https://docs.dkrz.de/doc/levante/data-transfer/index.html)):\n",
    "    - scp, sftp\n",
    "    - uftp for lange data transfers\n",
    "    - wget, curl\n",
    "    "
   ]
  },
  {
   "cell_type": "markdown",
   "id": "59932d4b-e66d-4e56-9bf5-6a5f7060b535",
   "metadata": {},
   "source": [
    "## Data archiving\n",
    "- data can be archived in the StrongLink HSM system based on the [slk user interface](https://docs.dkrz.de/doc/datastorage/hsm/index.html#ghwe42nsaldal-slk-command-line-tool)\n",
    "- slk also supports tape data search and data access"
   ]
  },
  {
   "cell_type": "markdown",
   "id": "c1eb341c-f8f0-43fb-939e-d1ac755fc208",
   "metadata": {},
   "source": [
    "## Data sharing with swift\n",
    "\n",
    "[Swift Object Storage at DKRZ documentation](https://docs.dkrz.de/doc/datastorage/swift/index.html)\n",
    "- Alternatives:\n",
    "    1) use simple web portal to upload/download data: https://swiftbrowser.dkrz.de\n",
    "       - supports: up/download of files and containers of files, data sharing with different access rights, temporary url provisioning etc. \n",
    "       - [swiftbrowser documentation](https://docs.dkrz.de/doc/datastorage/swift/swiftbrowser.html)\n",
    "    2) use command line swift client and python-swift client \n",
    "       - [dkrz swift client documentation](https://docs.dkrz.de/doc/datastorage/swift/python-swiftclient.html)\n",
    "      \n"
   ]
  }
 ],
 "metadata": {
  "kernelspec": {
   "display_name": "ESMValTool (based on the latest module esmvaltool)",
   "language": "python",
   "name": "esmvaltool"
  },
  "language_info": {
   "codemirror_mode": {
    "name": "ipython",
    "version": 3
   },
   "file_extension": ".py",
   "mimetype": "text/x-python",
   "name": "python",
   "nbconvert_exporter": "python",
   "pygments_lexer": "ipython3",
   "version": "3.10.12"
  }
 },
 "nbformat": 4,
 "nbformat_minor": 5
}
