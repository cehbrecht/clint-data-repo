{
 "cells": [
  {
   "cell_type": "markdown",
   "id": "94dcb69c-af0c-4881-b174-4f54fff768d3",
   "metadata": {},
   "source": [
    "# The CLINT data repository and data sharing"
   ]
  },
  {
   "cell_type": "markdown",
   "id": "b42584ff-61ee-41fa-87cf-34d75cd1133c",
   "metadata": {},
   "source": [
    "## Data ingest and data export \n",
    "- Data can be tranfered in and out of the data repository via conventional data transfer tools\n",
    "- Example transfer tools (see [Data Transfer help pages](https://docs.dkrz.de/doc/levante/data-transfer/index.html):\n",
    "    - scp, sftp\n",
    "    - uftp for lange data transfers\n",
    "    - wget, curl\n",
    "    "
   ]
  },
  {
   "cell_type": "markdown",
   "id": "59932d4b-e66d-4e56-9bf5-6a5f7060b535",
   "metadata": {},
   "source": [
    "## Data archiving\n",
    "- data can be archived in the StrongLink HSM system based on the [slk user interface](https://docs.dkrz.de/doc/datastorage/hsm/index.html#ghwe42nsaldal-slk-command-line-tool)\n",
    "- slk also supports tape data search and data access"
   ]
  },
  {
   "cell_type": "markdown",
   "id": "c1eb341c-f8f0-43fb-939e-d1ac755fc208",
   "metadata": {},
   "source": [
    "## Data sharing with swift\n",
    "\n",
    "[Swift Object Storage at DKRZ documentation](https://docs.dkrz.de/doc/datastorage/swift/index.html)\n",
    "- Alternatives:\n",
    "    1) use simple web portal to upload/download data: https://swiftbrowser.dkrz.de\n",
    "       - supports: up/download of files and containers of files, data sharing with different access rights, temporary url provisioning etc. \n",
    "       - [swiftbrowser documentation](https://docs.dkrz.de/doc/datastorage/swift/swiftbrowser.html)\n",
    "    2) use command line swift client and python-swift client \n",
    "       - [dkrz swift client documentation](https://docs.dkrz.de/doc/datastorage/swift/python-swiftclient.html)\n",
    "      \n"
   ]
  },
  {
   "cell_type": "markdown",
   "id": "33f39981-77ed-4cab-9054-ce79e4f26128",
   "metadata": {},
   "source": [
    "#### client examples\n",
    "- you need to set an appropriate environment with your credentials to use the swift client, there are different possiblitities to do this:\n",
    "- use swift-token command ((this will create .swiftenv etc.):\n",
    "\n",
    "       module load py-python-swiftclient\n",
    "       swift-token new \n",
    "    \n",
    "- set environment manually, e.g. in your .bashrc or in a separate file .swift\n",
    "\n",
    "\n",
    "    cat .swift\n",
    "        export ST_AUTH=https://swift.dkrz.de/auth/v1.0\n",
    "        export ST_USER=xxx:yyyy\n",
    "        export ST_KEY=zzzz\n",
    "\n",
    "    source .swift \n",
    "    "
   ]
  },
  {
   "cell_type": "markdown",
   "id": "e51bf9b7-0f2b-4c1a-a372-5e3dd4c09d9d",
   "metadata": {},
   "source": [
    "swift examples:\n",
    "> swift upload container_name file_to_upload\n",
    "\n",
    "When uploading large files use the built-in, multi-part uploading function, Static Large Object (SLO).\n",
    "\n",
    "> swift upload --use-slo --segment-size 10000000 container_name file_to_upload\n",
    "\n",
    "To update the metadata on an object use \"swift copy\". The -m option can be used multiple times in a single command.\n",
    "\n",
    "> swift copy -m key:value -m key:value container_name object\n",
    "To remove an existing metadata value from an object leave the key value blank\n",
    "\n",
    "> swift copy -m \"key:\" container_name object"
   ]
  },
  {
   "cell_type": "markdown",
   "id": "61a81fb2-604a-4c39-a5dd-f26346e81a55",
   "metadata": {},
   "source": [
    "#### python-swift examples"
   ]
  },
  {
   "cell_type": "code",
   "execution_count": null,
   "id": "733284a4-9974-4f99-8ce0-6b977eb17bf7",
   "metadata": {},
   "outputs": [],
   "source": [
    "# establish connection to DKRZ swift cloud, create container, put file into container\n",
    "# set account to your dkrz ldap name\n",
    "from swiftclient.client import Connection\n",
    "from getpass import getpass\n",
    "\n",
    "pw = getpass()\n",
    "\n",
    "c = Connection(\"https://swift.dkrz.de/auth/v1.0\", \"bk1318:account\", pw, auth_version=1.0)\n",
    "\n",
    "c.put_container(\"test1_container\")\n",
    "\n",
    "with open(\"bond0.png\", 'rb') as f:\n",
    "#f = open(\"bond0.png\",encoding=\"utf8\",errors=\"ignore\")\n",
    "  c.put_object(\"test1_container\", \"bond0\", f)"
   ]
  },
  {
   "cell_type": "code",
   "execution_count": null,
   "id": "763201ea-de45-44c3-a90f-9a26fb3f9462",
   "metadata": {},
   "outputs": [],
   "source": [
    "metadata, objects = c.get_container(\"test1_container\")"
   ]
  },
  {
   "cell_type": "code",
   "execution_count": null,
   "id": "ba55d9cc-58db-4a8c-93aa-bc04b5cd55e0",
   "metadata": {
    "tags": []
   },
   "outputs": [],
   "source": [
    "print(metadata)\n",
    "print(objects)"
   ]
  }
 ],
 "metadata": {
  "kernelspec": {
   "display_name": "ESMValTool (based on the latest module esmvaltool)",
   "language": "python",
   "name": "esmvaltool"
  },
  "language_info": {
   "codemirror_mode": {
    "name": "ipython",
    "version": 3
   },
   "file_extension": ".py",
   "mimetype": "text/x-python",
   "name": "python",
   "nbconvert_exporter": "python",
   "pygments_lexer": "ipython3",
   "version": "3.10.12"
  }
 },
 "nbformat": 4,
 "nbformat_minor": 5
}
