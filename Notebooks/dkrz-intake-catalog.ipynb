{
 "cells": [
  {
   "cell_type": "markdown",
   "metadata": {
    "slideshow": {
     "slide_type": "slide"
    }
   },
   "source": [
    "## Intake-esm\n",
    "\n",
    "In order to make our data pool supply more [FAIR](https://www.dkrz.de/up/services/data-management/LTA/fairness), we support the **python package** `intake-esm` which allows you to **use collections of climate data easily and fast**. We fully agree with the self-description of the developer's:\n",
    "\n",
    "> \"intake-esm is a data cataloging utility built on top of `intake`, `pandas`, and `xarray`, and it’s pretty awesome!\"\n",
    "\n",
    "We provide a tutorial here:\n",
    "https://gitlab.dkrz.de/data-infrastructure-services/intake-esm/-/blob/master/intake-esm_tutorial.ipynb\n",
    "\n",
    "The offical `intake-esm` page:\n",
    "https://intake-esm.readthedocs.io/"
   ]
  },
  {
   "cell_type": "markdown",
   "metadata": {
    "slideshow": {
     "slide_type": "subslide"
    }
   },
   "source": [
    "**Features**\n",
    "\n",
    "- display catalogs as clearly structured tables inside jupyter notebooks for easy investigation\n",
    "\n",
    "⇨ A pythonic reproducable alternative compared to complex `find` commands or GUI searches"
   ]
  },
  {
   "cell_type": "code",
   "execution_count": 1,
   "metadata": {
    "slideshow": {
     "slide_type": "subslide"
    }
   },
   "outputs": [
    {
     "ename": "FileNotFoundError",
     "evalue": "[Errno 2] No such file or directory: '/pool/data/Catalogs/mistral-cmip6.json'",
     "output_type": "error",
     "traceback": [
      "\u001b[0;31m---------------------------------------------------------------------------\u001b[0m",
      "\u001b[0;31mFileNotFoundError\u001b[0m                         Traceback (most recent call last)",
      "Cell \u001b[0;32mIn[1], line 2\u001b[0m\n\u001b[1;32m      1\u001b[0m \u001b[38;5;28;01mimport\u001b[39;00m \u001b[38;5;21;01mintake\u001b[39;00m\n\u001b[0;32m----> 2\u001b[0m col \u001b[38;5;241m=\u001b[39m \u001b[43mintake\u001b[49m\u001b[38;5;241;43m.\u001b[39;49m\u001b[43mopen_esm_datastore\u001b[49m\u001b[43m(\u001b[49m\u001b[38;5;124;43m\"\u001b[39;49m\u001b[38;5;124;43m/pool/data/Catalogs/mistral-cmip6.json\u001b[39;49m\u001b[38;5;124;43m\"\u001b[39;49m\u001b[43m)\u001b[49m\n\u001b[1;32m      3\u001b[0m col\u001b[38;5;241m.\u001b[39mdf\u001b[38;5;241m.\u001b[39mhead()\n",
      "File \u001b[0;32m/sw/spack-levante/mambaforge-22.9.0-2-Linux-x86_64-kptncg/lib/python3.10/site-packages/intake_esm/core.py:107\u001b[0m, in \u001b[0;36mesm_datastore.__init__\u001b[0;34m(self, obj, progressbar, sep, registry, read_csv_kwargs, columns_with_iterables, storage_options, **intake_kwargs)\u001b[0m\n\u001b[1;32m    105\u001b[0m     \u001b[38;5;28mself\u001b[39m\u001b[38;5;241m.\u001b[39mesmcat \u001b[38;5;241m=\u001b[39m ESMCatalogModel\u001b[38;5;241m.\u001b[39mfrom_dict(obj)\n\u001b[1;32m    106\u001b[0m \u001b[38;5;28;01melse\u001b[39;00m:\n\u001b[0;32m--> 107\u001b[0m     \u001b[38;5;28mself\u001b[39m\u001b[38;5;241m.\u001b[39mesmcat \u001b[38;5;241m=\u001b[39m \u001b[43mESMCatalogModel\u001b[49m\u001b[38;5;241;43m.\u001b[39;49m\u001b[43mload\u001b[49m\u001b[43m(\u001b[49m\n\u001b[1;32m    108\u001b[0m \u001b[43m        \u001b[49m\u001b[43mobj\u001b[49m\u001b[43m,\u001b[49m\u001b[43m \u001b[49m\u001b[43mstorage_options\u001b[49m\u001b[38;5;241;43m=\u001b[39;49m\u001b[38;5;28;43mself\u001b[39;49m\u001b[38;5;241;43m.\u001b[39;49m\u001b[43mstorage_options\u001b[49m\u001b[43m,\u001b[49m\u001b[43m \u001b[49m\u001b[43mread_csv_kwargs\u001b[49m\u001b[38;5;241;43m=\u001b[39;49m\u001b[43mread_csv_kwargs\u001b[49m\n\u001b[1;32m    109\u001b[0m \u001b[43m    \u001b[49m\u001b[43m)\u001b[49m\n\u001b[1;32m    111\u001b[0m \u001b[38;5;28mself\u001b[39m\u001b[38;5;241m.\u001b[39mderivedcat \u001b[38;5;241m=\u001b[39m registry \u001b[38;5;129;01mor\u001b[39;00m default_registry\n\u001b[1;32m    112\u001b[0m \u001b[38;5;28mself\u001b[39m\u001b[38;5;241m.\u001b[39m_entries \u001b[38;5;241m=\u001b[39m {}\n",
      "File \u001b[0;32m/sw/spack-levante/mambaforge-22.9.0-2-Linux-x86_64-kptncg/lib/python3.10/site-packages/intake_esm/cat.py:253\u001b[0m, in \u001b[0;36mESMCatalogModel.load\u001b[0;34m(cls, json_file, storage_options, read_csv_kwargs)\u001b[0m\n\u001b[1;32m    250\u001b[0m json_file \u001b[38;5;241m=\u001b[39m \u001b[38;5;28mstr\u001b[39m(json_file)  \u001b[38;5;66;03m# We accept Path, but fsspec doesn't.\u001b[39;00m\n\u001b[1;32m    251\u001b[0m _mapper \u001b[38;5;241m=\u001b[39m fsspec\u001b[38;5;241m.\u001b[39mget_mapper(json_file, \u001b[38;5;241m*\u001b[39m\u001b[38;5;241m*\u001b[39mstorage_options)\n\u001b[0;32m--> 253\u001b[0m \u001b[38;5;28;01mwith\u001b[39;00m fsspec\u001b[38;5;241m.\u001b[39mopen(json_file, \u001b[38;5;241m*\u001b[39m\u001b[38;5;241m*\u001b[39mstorage_options) \u001b[38;5;28;01mas\u001b[39;00m fobj:\n\u001b[1;32m    254\u001b[0m     data \u001b[38;5;241m=\u001b[39m json\u001b[38;5;241m.\u001b[39mloads(fobj\u001b[38;5;241m.\u001b[39mread())\n\u001b[1;32m    255\u001b[0m     \u001b[38;5;28;01mif\u001b[39;00m \u001b[38;5;124m'\u001b[39m\u001b[38;5;124mlast_updated\u001b[39m\u001b[38;5;124m'\u001b[39m \u001b[38;5;129;01mnot\u001b[39;00m \u001b[38;5;129;01min\u001b[39;00m data:\n",
      "File \u001b[0;32m/sw/spack-levante/mambaforge-22.9.0-2-Linux-x86_64-kptncg/lib/python3.10/site-packages/fsspec/core.py:102\u001b[0m, in \u001b[0;36mOpenFile.__enter__\u001b[0;34m(self)\u001b[0m\n\u001b[1;32m     99\u001b[0m \u001b[38;5;28;01mdef\u001b[39;00m \u001b[38;5;21m__enter__\u001b[39m(\u001b[38;5;28mself\u001b[39m):\n\u001b[1;32m    100\u001b[0m     mode \u001b[38;5;241m=\u001b[39m \u001b[38;5;28mself\u001b[39m\u001b[38;5;241m.\u001b[39mmode\u001b[38;5;241m.\u001b[39mreplace(\u001b[38;5;124m\"\u001b[39m\u001b[38;5;124mt\u001b[39m\u001b[38;5;124m\"\u001b[39m, \u001b[38;5;124m\"\u001b[39m\u001b[38;5;124m\"\u001b[39m)\u001b[38;5;241m.\u001b[39mreplace(\u001b[38;5;124m\"\u001b[39m\u001b[38;5;124mb\u001b[39m\u001b[38;5;124m\"\u001b[39m, \u001b[38;5;124m\"\u001b[39m\u001b[38;5;124m\"\u001b[39m) \u001b[38;5;241m+\u001b[39m \u001b[38;5;124m\"\u001b[39m\u001b[38;5;124mb\u001b[39m\u001b[38;5;124m\"\u001b[39m\n\u001b[0;32m--> 102\u001b[0m     f \u001b[38;5;241m=\u001b[39m \u001b[38;5;28;43mself\u001b[39;49m\u001b[38;5;241;43m.\u001b[39;49m\u001b[43mfs\u001b[49m\u001b[38;5;241;43m.\u001b[39;49m\u001b[43mopen\u001b[49m\u001b[43m(\u001b[49m\u001b[38;5;28;43mself\u001b[39;49m\u001b[38;5;241;43m.\u001b[39;49m\u001b[43mpath\u001b[49m\u001b[43m,\u001b[49m\u001b[43m \u001b[49m\u001b[43mmode\u001b[49m\u001b[38;5;241;43m=\u001b[39;49m\u001b[43mmode\u001b[49m\u001b[43m)\u001b[49m\n\u001b[1;32m    104\u001b[0m     \u001b[38;5;28mself\u001b[39m\u001b[38;5;241m.\u001b[39mfobjects \u001b[38;5;241m=\u001b[39m [f]\n\u001b[1;32m    106\u001b[0m     \u001b[38;5;28;01mif\u001b[39;00m \u001b[38;5;28mself\u001b[39m\u001b[38;5;241m.\u001b[39mcompression \u001b[38;5;129;01mis\u001b[39;00m \u001b[38;5;129;01mnot\u001b[39;00m \u001b[38;5;28;01mNone\u001b[39;00m:\n",
      "File \u001b[0;32m/sw/spack-levante/mambaforge-22.9.0-2-Linux-x86_64-kptncg/lib/python3.10/site-packages/fsspec/spec.py:1154\u001b[0m, in \u001b[0;36mAbstractFileSystem.open\u001b[0;34m(self, path, mode, block_size, cache_options, compression, **kwargs)\u001b[0m\n\u001b[1;32m   1152\u001b[0m \u001b[38;5;28;01melse\u001b[39;00m:\n\u001b[1;32m   1153\u001b[0m     ac \u001b[38;5;241m=\u001b[39m kwargs\u001b[38;5;241m.\u001b[39mpop(\u001b[38;5;124m\"\u001b[39m\u001b[38;5;124mautocommit\u001b[39m\u001b[38;5;124m\"\u001b[39m, \u001b[38;5;129;01mnot\u001b[39;00m \u001b[38;5;28mself\u001b[39m\u001b[38;5;241m.\u001b[39m_intrans)\n\u001b[0;32m-> 1154\u001b[0m     f \u001b[38;5;241m=\u001b[39m \u001b[38;5;28;43mself\u001b[39;49m\u001b[38;5;241;43m.\u001b[39;49m\u001b[43m_open\u001b[49m\u001b[43m(\u001b[49m\n\u001b[1;32m   1155\u001b[0m \u001b[43m        \u001b[49m\u001b[43mpath\u001b[49m\u001b[43m,\u001b[49m\n\u001b[1;32m   1156\u001b[0m \u001b[43m        \u001b[49m\u001b[43mmode\u001b[49m\u001b[38;5;241;43m=\u001b[39;49m\u001b[43mmode\u001b[49m\u001b[43m,\u001b[49m\n\u001b[1;32m   1157\u001b[0m \u001b[43m        \u001b[49m\u001b[43mblock_size\u001b[49m\u001b[38;5;241;43m=\u001b[39;49m\u001b[43mblock_size\u001b[49m\u001b[43m,\u001b[49m\n\u001b[1;32m   1158\u001b[0m \u001b[43m        \u001b[49m\u001b[43mautocommit\u001b[49m\u001b[38;5;241;43m=\u001b[39;49m\u001b[43mac\u001b[49m\u001b[43m,\u001b[49m\n\u001b[1;32m   1159\u001b[0m \u001b[43m        \u001b[49m\u001b[43mcache_options\u001b[49m\u001b[38;5;241;43m=\u001b[39;49m\u001b[43mcache_options\u001b[49m\u001b[43m,\u001b[49m\n\u001b[1;32m   1160\u001b[0m \u001b[43m        \u001b[49m\u001b[38;5;241;43m*\u001b[39;49m\u001b[38;5;241;43m*\u001b[39;49m\u001b[43mkwargs\u001b[49m\u001b[43m,\u001b[49m\n\u001b[1;32m   1161\u001b[0m \u001b[43m    \u001b[49m\u001b[43m)\u001b[49m\n\u001b[1;32m   1162\u001b[0m     \u001b[38;5;28;01mif\u001b[39;00m compression \u001b[38;5;129;01mis\u001b[39;00m \u001b[38;5;129;01mnot\u001b[39;00m \u001b[38;5;28;01mNone\u001b[39;00m:\n\u001b[1;32m   1163\u001b[0m         \u001b[38;5;28;01mfrom\u001b[39;00m \u001b[38;5;21;01mfsspec\u001b[39;00m\u001b[38;5;21;01m.\u001b[39;00m\u001b[38;5;21;01mcompression\u001b[39;00m \u001b[38;5;28;01mimport\u001b[39;00m compr\n",
      "File \u001b[0;32m/sw/spack-levante/mambaforge-22.9.0-2-Linux-x86_64-kptncg/lib/python3.10/site-packages/fsspec/implementations/local.py:183\u001b[0m, in \u001b[0;36mLocalFileSystem._open\u001b[0;34m(self, path, mode, block_size, **kwargs)\u001b[0m\n\u001b[1;32m    181\u001b[0m \u001b[38;5;28;01mif\u001b[39;00m \u001b[38;5;28mself\u001b[39m\u001b[38;5;241m.\u001b[39mauto_mkdir \u001b[38;5;129;01mand\u001b[39;00m \u001b[38;5;124m\"\u001b[39m\u001b[38;5;124mw\u001b[39m\u001b[38;5;124m\"\u001b[39m \u001b[38;5;129;01min\u001b[39;00m mode:\n\u001b[1;32m    182\u001b[0m     \u001b[38;5;28mself\u001b[39m\u001b[38;5;241m.\u001b[39mmakedirs(\u001b[38;5;28mself\u001b[39m\u001b[38;5;241m.\u001b[39m_parent(path), exist_ok\u001b[38;5;241m=\u001b[39m\u001b[38;5;28;01mTrue\u001b[39;00m)\n\u001b[0;32m--> 183\u001b[0m \u001b[38;5;28;01mreturn\u001b[39;00m \u001b[43mLocalFileOpener\u001b[49m\u001b[43m(\u001b[49m\u001b[43mpath\u001b[49m\u001b[43m,\u001b[49m\u001b[43m \u001b[49m\u001b[43mmode\u001b[49m\u001b[43m,\u001b[49m\u001b[43m \u001b[49m\u001b[43mfs\u001b[49m\u001b[38;5;241;43m=\u001b[39;49m\u001b[38;5;28;43mself\u001b[39;49m\u001b[43m,\u001b[49m\u001b[43m \u001b[49m\u001b[38;5;241;43m*\u001b[39;49m\u001b[38;5;241;43m*\u001b[39;49m\u001b[43mkwargs\u001b[49m\u001b[43m)\u001b[49m\n",
      "File \u001b[0;32m/sw/spack-levante/mambaforge-22.9.0-2-Linux-x86_64-kptncg/lib/python3.10/site-packages/fsspec/implementations/local.py:287\u001b[0m, in \u001b[0;36mLocalFileOpener.__init__\u001b[0;34m(self, path, mode, autocommit, fs, compression, **kwargs)\u001b[0m\n\u001b[1;32m    285\u001b[0m \u001b[38;5;28mself\u001b[39m\u001b[38;5;241m.\u001b[39mcompression \u001b[38;5;241m=\u001b[39m get_compression(path, compression)\n\u001b[1;32m    286\u001b[0m \u001b[38;5;28mself\u001b[39m\u001b[38;5;241m.\u001b[39mblocksize \u001b[38;5;241m=\u001b[39m io\u001b[38;5;241m.\u001b[39mDEFAULT_BUFFER_SIZE\n\u001b[0;32m--> 287\u001b[0m \u001b[38;5;28;43mself\u001b[39;49m\u001b[38;5;241;43m.\u001b[39;49m\u001b[43m_open\u001b[49m\u001b[43m(\u001b[49m\u001b[43m)\u001b[49m\n",
      "File \u001b[0;32m/sw/spack-levante/mambaforge-22.9.0-2-Linux-x86_64-kptncg/lib/python3.10/site-packages/fsspec/implementations/local.py:292\u001b[0m, in \u001b[0;36mLocalFileOpener._open\u001b[0;34m(self)\u001b[0m\n\u001b[1;32m    290\u001b[0m \u001b[38;5;28;01mif\u001b[39;00m \u001b[38;5;28mself\u001b[39m\u001b[38;5;241m.\u001b[39mf \u001b[38;5;129;01mis\u001b[39;00m \u001b[38;5;28;01mNone\u001b[39;00m \u001b[38;5;129;01mor\u001b[39;00m \u001b[38;5;28mself\u001b[39m\u001b[38;5;241m.\u001b[39mf\u001b[38;5;241m.\u001b[39mclosed:\n\u001b[1;32m    291\u001b[0m     \u001b[38;5;28;01mif\u001b[39;00m \u001b[38;5;28mself\u001b[39m\u001b[38;5;241m.\u001b[39mautocommit \u001b[38;5;129;01mor\u001b[39;00m \u001b[38;5;124m\"\u001b[39m\u001b[38;5;124mw\u001b[39m\u001b[38;5;124m\"\u001b[39m \u001b[38;5;129;01mnot\u001b[39;00m \u001b[38;5;129;01min\u001b[39;00m \u001b[38;5;28mself\u001b[39m\u001b[38;5;241m.\u001b[39mmode:\n\u001b[0;32m--> 292\u001b[0m         \u001b[38;5;28mself\u001b[39m\u001b[38;5;241m.\u001b[39mf \u001b[38;5;241m=\u001b[39m \u001b[38;5;28;43mopen\u001b[39;49m\u001b[43m(\u001b[49m\u001b[38;5;28;43mself\u001b[39;49m\u001b[38;5;241;43m.\u001b[39;49m\u001b[43mpath\u001b[49m\u001b[43m,\u001b[49m\u001b[43m \u001b[49m\u001b[43mmode\u001b[49m\u001b[38;5;241;43m=\u001b[39;49m\u001b[38;5;28;43mself\u001b[39;49m\u001b[38;5;241;43m.\u001b[39;49m\u001b[43mmode\u001b[49m\u001b[43m)\u001b[49m\n\u001b[1;32m    293\u001b[0m         \u001b[38;5;28;01mif\u001b[39;00m \u001b[38;5;28mself\u001b[39m\u001b[38;5;241m.\u001b[39mcompression:\n\u001b[1;32m    294\u001b[0m             compress \u001b[38;5;241m=\u001b[39m compr[\u001b[38;5;28mself\u001b[39m\u001b[38;5;241m.\u001b[39mcompression]\n",
      "\u001b[0;31mFileNotFoundError\u001b[0m: [Errno 2] No such file or directory: '/pool/data/Catalogs/mistral-cmip6.json'"
     ]
    }
   ],
   "source": [
    "import intake\n",
    "col = intake.open_esm_datastore(\"/pool/data/Catalogs/mistral-cmip6.json\")\n",
    "col.df.head()"
   ]
  },
  {
   "cell_type": "markdown",
   "metadata": {
    "slideshow": {
     "slide_type": "subslide"
    }
   },
   "source": [
    "**Features**\n",
    "\n",
    "- browse through the catalog and select your data without being on the pool file system\n",
    "\n",
    "⇨ No need for Filesystems and filenames, work with a catalog!"
   ]
  },
  {
   "cell_type": "code",
   "execution_count": null,
   "metadata": {
    "slideshow": {
     "slide_type": "subslide"
    }
   },
   "outputs": [],
   "source": [
    "tas = col.search(experiment_id=\"historical\", source_id=\"MPI-ESM1-2-HR\", variable_id=\"tas\", table_id=\"Amon\", member_id=\"r1i1p1f1\")\n",
    "tas"
   ]
  },
  {
   "cell_type": "markdown",
   "metadata": {
    "slideshow": {
     "slide_type": "subslide"
    }
   },
   "source": [
    "**Features**\n",
    "\n",
    "- open climate data in an analysis ready dictionary of `xarray` datasets\n",
    "\n",
    "Forget about annoying temporary merging and reformatting steps!"
   ]
  },
  {
   "cell_type": "code",
   "execution_count": null,
   "metadata": {
    "slideshow": {
     "slide_type": "subslide"
    }
   },
   "outputs": [],
   "source": [
    "tas.to_dataset_dict()"
   ]
  },
  {
   "cell_type": "markdown",
   "metadata": {
    "slideshow": {
     "slide_type": "subslide"
    }
   },
   "source": [
    "**Features**\n",
    "\n",
    "- display catalogs as clearly structured tables inside jupyter notebooks for easy investigation\n",
    "- browse through the catalog and select your data without being on the pool file system\n",
    "- open climate data in an analysis ready dictionary of `xarray` datasets\n",
    "\n",
    "⇨ `intake-esm` reduces the data access and data preparation tasks on analysists side"
   ]
  },
  {
   "cell_type": "markdown",
   "metadata": {
    "slideshow": {
     "slide_type": "slide"
    }
   },
   "source": [
    "### Catalog content\n",
    "\n",
    "The catalog is a combination of\n",
    "\n",
    "- a list of files (at dkrz compressed as `.csv.gz`) where each line contains a filepath as an index and column values to describe that file\n",
    "    - The columns of the catalog should be selected such that  a dataset in the project's data repository can be *uniquely identified*. I.e., all elements of the project's Data Reference Syntax should be covered (See the project's documentation for more information about the DRS) .\n",
    "- a `.json` formatted descriptor file for the list which contains additional settings which tell `intake` how to interprete the data. \n",
    "\n",
    "According to our policy, both files have the same name and are available in the same directory."
   ]
  },
  {
   "cell_type": "code",
   "execution_count": null,
   "metadata": {
    "slideshow": {
     "slide_type": "subslide"
    }
   },
   "outputs": [],
   "source": [
    "print(\"What is this catalog about? \\n\" + col.esmcol_data[\"description\"])\n",
    "#\n",
    "print(\"The path to the list of files: \"+ col.esmcol_data[\"catalog_file\"])"
   ]
  },
  {
   "cell_type": "markdown",
   "metadata": {
    "slideshow": {
     "slide_type": "subslide"
    }
   },
   "source": [
    "**Creation of the `.csv.gz` list :**\n",
    "\n",
    "1. A file list is created based on a `find` shell command on the project directory in the data pool.\n",
    "2. For the column values, filenames and Pathes are parsed according to the project's `path_template` and `filename_template`. These templates need to be constructed with attribute values requested and required by the project.\n",
    "    - Filenames that cannot be parsed are sorted out\n",
    "3. Depending on the project, additional columns can be created by adding project's specifications.\n",
    "    - E.g., for CMIP6, we added a `OpenDAP` column which allows users to access data from everywhere via `http`"
   ]
  },
  {
   "cell_type": "markdown",
   "metadata": {
    "slideshow": {
     "slide_type": "subslide"
    }
   },
   "source": [
    "**Configuration of the `.json` descriptor:**\n",
    "\n",
    "Makes the catalog **self-descriptive** by defining all necessary information to understand the `.csv.gz` file\n",
    "\n",
    "- Specifications for the *headers* of the columns - in case of CMIP6, each column is linked to a *Controlled Vocabulary*."
   ]
  },
  {
   "cell_type": "code",
   "execution_count": null,
   "metadata": {
    "slideshow": {
     "slide_type": "subslide"
    }
   },
   "outputs": [],
   "source": [
    "col.esmcol_data[\"attributes\"][0]"
   ]
  },
  {
   "cell_type": "markdown",
   "metadata": {
    "slideshow": {
     "slide_type": "subslide"
    }
   },
   "source": [
    "Defines how to `open` the data as **analysis ready** as possible with the underlaying `xarray` tool:\n",
    "\n",
    "- which column of the `.csv.gz` file contains the path or link to the files\n",
    "- what is the data format\n",
    "- how to **aggregate** files to a dataset\n",
    "    - set a column to be used as a new dimension for the xarray by `merge`\n",
    "    - when opened a file, what is `concat` dimension?\n",
    "    - additional options for the `open` function"
   ]
  },
  {
   "cell_type": "markdown",
   "metadata": {
    "slideshow": {
     "slide_type": "slide"
    }
   },
   "source": [
    "### Jobs we do for you\n",
    "\n",
    "- We **make all catalogs available** under `/pool/data/Catalogs/`\n",
    "- We **create and update** the content of project's catalogs regularly by running scripts which are automatically executed and called _cronjobs_. We set the creation frequency so that the data of the project is updated sufficently quickly.\n",
    "    - The updated catalog __replaces__ the outdated one. \n",
    "    - The updated catalog is __uploaded__ to the DKRZ swift cloud \n",
    "    - We plan to provide a catalog that tracks data which is __removed__ by the update."
   ]
  },
  {
   "cell_type": "code",
   "execution_count": null,
   "metadata": {
    "slideshow": {
     "slide_type": "subslide"
    }
   },
   "outputs": [],
   "source": [
    "import pandas as pd\n",
    "#pd.options.display.max_colwidth = 100\n",
    "services = pd.DataFrame.from_dict({\"CMIP6\" : {\n",
    "    \"Creation Frequency\" : \"Daily\",\n",
    "    \"On cloud\" : \"Yes\", #\"https://swift.dkrz.de/v1/dkrz_a44962e3ba914c309a7421573a6949a6/intake-esm/mistral-cmip6.json\",\n",
    "    \"Path to catalog\" : \"/pool/data/Catalogs/mistral-cmip6.json\",\n",
    "    \"OpenDAP\" : \"Yes\",\n",
    "    \"Retraction Tracking\" : \"\",\n",
    "    \"Minimum required Memory\" : \"10GB\",\n",
    "}, \"CMIP5\": {\n",
    "    \"Creation Frequency\" : \"Monthly\",\n",
    "    \"On cloud\" : \"\",\n",
    "    \"Path to catalog\" : \"/pool/data/Catalogs/mistral-cmip5.json\",\n",
    "    \"OpenDAP\" : \"\",\n",
    "    \"Retraction Tracking\" : \"\",\n",
    "    \"Minimum required Memory\" : \"5GB\",\n",
    "}, \"CORDEX\": {\n",
    "    \"Creation Frequency\" : \"Monthly\",\n",
    "    \"On cloud\" : \"Yes\", #\"https://swift.dkrz.de/v1/dkrz_a44962e3ba914c309a7421573a6949a6/intake-esm/mistral-cordex.json\",\n",
    "    \"Path to catalog\" : \"/pool/data/Catalogs/mistral-cordex.json\",\n",
    "    \"OpenDAP\" : \"\",\n",
    "    \"Retraction Tracking\" : \"\",\n",
    "    \"Minimum required Memory\" : \"5GB\",\n",
    "}, \"ERA5\": {\n",
    "    \"Creation Frequency\" : \"On demand\",\n",
    "    \"On cloud\" : \"\",\n",
    "    \"Path to catalog\" : \"/pool/data/Catalogs/mistral-era5.json\",\n",
    "    \"OpenDAP\" : \"--\",\n",
    "    \"Retraction Tracking\" : \"--\",\n",
    "    \"Minimum required Memory\" : \"5GB\",\n",
    "}, \"MPI-GE\": {\n",
    "    \"Creation Frequency\" : \"On demand\",\n",
    "    \"On cloud\" : \"\",\n",
    "    \"Path to catalog\" : \"/pool/data/Catalogs/mistral-mpige.json\",\n",
    "    \"OpenDAP\" : \"\",\n",
    "    \"Retraction Tracking\" : \"--\",\n",
    "    \"Minimum required Memory\" : \"No minimum\",\n",
    "}}, orient  = \"index\")\n",
    "servicestb=services.style.set_properties(**{\n",
    "    'font-size': '14pt',\n",
    "})\n",
    "\n",
    "servicestb"
   ]
  },
  {
   "cell_type": "markdown",
   "metadata": {
    "slideshow": {
     "slide_type": "slide"
    }
   },
   "source": [
    "### Best practises and recommendations:\n",
    "\n",
    "- `Intake` can make your scripts **reusable**.\n",
    "    - Instead of working with local copy or editions of files, always start from a globally defined catalog which everyone can access. \n",
    "    - Save the subset of the catalog which you work on as a new catalog instead of a subset of files. It can be hard to find out why data is not included anymore in recent catalog versions, especially if retraction tracking is not enabled.\n",
    "- `Intake` helps you to __avoid downloading data__ by reducing necessary temporary steps which can cause temporary output.\n",
    "- Check for new ingests by just __repeating__ your script - it will open the most recent catalog.\n",
    "- Only load datasets with `to_dataset_dict` into xarrray which do not exceed your memory limits"
   ]
  },
  {
   "cell_type": "markdown",
   "metadata": {
    "slideshow": {
     "slide_type": "slide"
    }
   },
   "source": [
    "### Technical requirements for usage\n",
    "\n",
    "- Memory:\n",
    "    - Depending on the project's volume, the catalogs can be big. If you need to work with the total catalog, you require at least **10GB** memory.\n",
    "    - On jupyterhub.dkrz.de, start the notebook server with matching ressources.\n",
    "- Software:\n",
    "    - `Intake` works on the basis of `xarray` and `pandas`.\n",
    "    - On jupyterhub.dkrz.de , use one of the recent kernels:\n",
    "        - bleeding edge"
   ]
  },
  {
   "cell_type": "markdown",
   "metadata": {
    "slideshow": {
     "slide_type": "skip"
    }
   },
   "source": [
    "### Load the catalog"
   ]
  },
  {
   "cell_type": "code",
   "execution_count": null,
   "metadata": {
    "slideshow": {
     "slide_type": "skip"
    }
   },
   "outputs": [],
   "source": [
    "#import intake\n",
    "#collection = intake.open_esm_datastore(services[\"Path to catalog\"][0])"
   ]
  },
  {
   "cell_type": "markdown",
   "metadata": {
    "slideshow": {
     "slide_type": "slide"
    }
   },
   "source": [
    "### Next step:\n",
    "- https://gitlab.dkrz.de/data-infrastructure-services/intake-esm/-/blob/master/intake-esm_tutorial.ipynb\n"
   ]
  },
  {
   "cell_type": "code",
   "execution_count": null,
   "metadata": {},
   "outputs": [],
   "source": []
  }
 ],
 "metadata": {
  "celltoolbar": "Raw Cell Format",
  "kernelspec": {
   "display_name": "Python 3 (based on the module python3/2023.01)",
   "language": "python",
   "name": "python3_2023_01"
  },
  "language_info": {
   "codemirror_mode": {
    "name": "ipython",
    "version": 3
   },
   "file_extension": ".py",
   "mimetype": "text/x-python",
   "name": "python",
   "nbconvert_exporter": "python",
   "pygments_lexer": "ipython3",
   "version": "3.10.10"
  }
 },
 "nbformat": 4,
 "nbformat_minor": 4
}
